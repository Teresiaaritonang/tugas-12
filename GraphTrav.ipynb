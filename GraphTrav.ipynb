{
  "nbformat": 4,
  "nbformat_minor": 0,
  "metadata": {
    "colab": {
      "provenance": []
    },
    "kernelspec": {
      "name": "python3",
      "display_name": "Python 3"
    },
    "language_info": {
      "name": "python"
    }
  },
  "cells": [
    {
      "cell_type": "code",
      "execution_count": 1,
      "metadata": {
        "colab": {
          "base_uri": "https://localhost:8080/"
        },
        "id": "kFoMWlTF4U-6",
        "outputId": "1ad6590a-3c7f-415a-9fb0-0bc58f4e5345"
      },
      "outputs": [
        {
          "output_type": "stream",
          "name": "stdout",
          "text": [
            "a\n",
            "c\n",
            "e\n",
            "f\n",
            "d\n",
            "b\n"
          ]
        }
      ],
      "source": [
        "class Graph:\n",
        "    def __init__(self, gdict=None):\n",
        "        if gdict is None:\n",
        "            gdict = {}\n",
        "        self.gdict = gdict\n",
        "\n",
        "    def addEdge(self, vertex, edge):\n",
        "        self.gdict[vertex].append(edge)\n",
        "\n",
        "    def bfs(self, vertex):\n",
        "        visited = [vertex]\n",
        "        queue = [vertex]\n",
        "        while queue:\n",
        "            deVertex = queue.pop(0)\n",
        "            print(deVertex)\n",
        "            for adjacentVertex in self.gdict[deVertex]:\n",
        "                if adjacentVertex not in visited:\n",
        "                    visited.append(adjacentVertex)\n",
        "                    queue.append(adjacentVertex)\n",
        "\n",
        "    def dfs(self, vertex):\n",
        "        visited = [vertex]\n",
        "        stack = [vertex]\n",
        "        while stack:\n",
        "            popVertex = stack.pop()\n",
        "            print(popVertex)\n",
        "            for adjacentVertex in self.gdict[popVertex]:\n",
        "                if adjacentVertex not in visited:\n",
        "                    visited.append(adjacentVertex)\n",
        "                    stack.append(adjacentVertex)\n",
        "\n",
        "\n",
        "\n",
        "\n",
        "customDict = { \"a\" : [\"b\",\"c\"],\n",
        "            \"b\" : [\"a\", \"d\", \"e\"],\n",
        "            \"c\" : [\"a\", \"e\"],\n",
        "            \"d\" : [\"b\", \"e\", \"f\"],\n",
        "            \"e\" : [\"d\", \"f\", \"c\"],\n",
        "            \"f\" : [\"d\", \"e\"]\n",
        "               }\n",
        "\n",
        "\n",
        "\n",
        "g = Graph(customDict)\n",
        "g.dfs(\"a\")"
      ]
    }
  ]
}